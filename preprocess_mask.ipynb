{
 "cells": [
  {
   "cell_type": "markdown",
   "metadata": {},
   "source": [
    "Prerequiste:\n",
    "\n",
    "install [ASAP](https://github.com/computationalpathologygroup/ASAP/releases)\n",
    "\n",
    "install openslide"
   ]
  },
  {
   "cell_type": "code",
   "execution_count": 2,
   "metadata": {},
   "outputs": [],
   "source": [
    "import sys\n",
    "sys.path.append(\"/opt/ASAP/bin\")\n",
    "import os\n",
    "import glob\n",
    "import multiresolutionimageinterface as mir\n",
    "from joblib import Parallel, delayed\n",
    "\n",
    "DATASET_DIR = \"/media/boxi/Dataset/CAMELYON16\""
   ]
  },
  {
   "cell_type": "markdown",
   "metadata": {},
   "source": [
    "# preprocess tumor mask for training"
   ]
  },
  {
   "cell_type": "code",
   "execution_count": null,
   "metadata": {},
   "outputs": [],
   "source": [
    "def process_mask(slide_no, overwrite=False):\n",
    "    slide_no_str = '{:03}'.format(slide_no)\n",
    "    slide_path = DATASET_DIR+\"/training/tumor/tumor_\"+slide_no_str+\".tif\"\n",
    "    slide_annotation_path = DATASET_DIR+\"/training/tumor/tumor_\"+slide_no_str+\".xml\"\n",
    "    output_path = DATASET_DIR+\"/training/tumor/mask/tumor_\"+slide_no_str+\"_mask.tif\"\n",
    "\n",
    "    if not os.path.isfile(output_path) or (overwrite):\n",
    "\n",
    "        reader = mir.MultiResolutionImageReader()\n",
    "        mr_image = reader.open(slide_path)\n",
    "        annotation_list = mir.AnnotationList()\n",
    "        xml_repository = mir.XmlRepository(annotation_list)\n",
    "        xml_repository.setSource(slide_annotation_path)\n",
    "        xml_repository.load()\n",
    "        annotation_mask = mir.AnnotationToMask()\n",
    "        camelyon17_type_mask = False\n",
    "        label_map = {'metastases': 1, 'normal': 2} if camelyon17_type_mask else {\n",
    "            '_0': 1, '_1': 1, '_2': 0}\n",
    "        conversion_order = ['metastases', 'normal'] if camelyon17_type_mask else [\n",
    "            '_0', '_1', '_2']\n",
    "        print(\"process #\"+slide_no_str)\n",
    "        annotation_mask.convert(annotation_list, output_path, mr_image.getDimensions(\n",
    "        ), mr_image.getSpacing(), label_map, conversion_order)\n",
    "    return slide_no"
   ]
  },
  {
   "cell_type": "code",
   "execution_count": null,
   "metadata": {},
   "outputs": [],
   "source": [
    "Parallel(n_jobs=60)(delayed(process_mask)(i) for i in range(1,112))"
   ]
  },
  {
   "cell_type": "markdown",
   "metadata": {},
   "source": [
    "# preprocess tumor mask for testing"
   ]
  },
  {
   "cell_type": "code",
   "execution_count": null,
   "metadata": {},
   "outputs": [],
   "source": [
    "TEST_DIR = DATASET_DIR+'/testing/'\n",
    "slide_dir = TEST_DIR+'images/'\n",
    "slide_annotation_dir = TEST_DIR+'lesion_annotations/'\n",
    "output_dir = TEST_DIR+'mask/'"
   ]
  },
  {
   "cell_type": "code",
   "execution_count": 26,
   "metadata": {},
   "outputs": [],
   "source": [
    "annotation_paths = glob.glob(slide_annotation_dir+'*')\n",
    "tumor_slide_basenames = sorted([os.path.basename(annotation_path).split(\n",
    "    '.')[0] for annotation_path in annotation_paths])"
   ]
  },
  {
   "cell_type": "code",
   "execution_count": 43,
   "metadata": {},
   "outputs": [
    {
     "data": {
      "text/plain": [
       "'/media/boxi/V2/test/images/test_002.tif'"
      ]
     },
     "execution_count": 43,
     "metadata": {},
     "output_type": "execute_result"
    }
   ],
   "source": [
    "slide_basename = tumor_slide_basenames[1]\n",
    "\n",
    "slide_path = slide_dir+slide_basename + '.tif'\n",
    "slide_path"
   ]
  },
  {
   "cell_type": "code",
   "execution_count": 44,
   "metadata": {},
   "outputs": [
    {
     "data": {
      "text/plain": [
       "'/media/boxi/V2/test/lesion_annotations/test_002.xml'"
      ]
     },
     "execution_count": 44,
     "metadata": {},
     "output_type": "execute_result"
    }
   ],
   "source": [
    "slide_annotation_path = slide_annotation_dir+slide_basename + '.xml'\n",
    "slide_annotation_path"
   ]
  },
  {
   "cell_type": "code",
   "execution_count": 45,
   "metadata": {},
   "outputs": [
    {
     "data": {
      "text/plain": [
       "'/media/boxi/V2/test/mask/test_002.tif'"
      ]
     },
     "execution_count": 45,
     "metadata": {},
     "output_type": "execute_result"
    }
   ],
   "source": [
    "output_path = output_dir+slide_basename + '.tif'\n",
    "output_path"
   ]
  },
  {
   "cell_type": "code",
   "execution_count": null,
   "metadata": {},
   "outputs": [],
   "source": [
    "def process_mask(slide_basename, overwrite=False):\n",
    "    slide_path = slide_dir+slide_basename + '.tif'\n",
    "    slide_annotation_path = slide_annotation_dir+slide_basename + '.xml'\n",
    "    output_path = output_dir+slide_basename + '.tif'\n",
    "\n",
    "    if not os.path.isfile(output_path) or (overwrite):\n",
    "\n",
    "        reader = mir.MultiResolutionImageReader()\n",
    "        mr_image = reader.open(slide_path)\n",
    "        annotation_list = mir.AnnotationList()\n",
    "        xml_repository = mir.XmlRepository(annotation_list)\n",
    "        xml_repository.setSource(slide_annotation_path)\n",
    "        xml_repository.load()\n",
    "        annotation_mask = mir.AnnotationToMask()\n",
    "        camelyon17_type_mask = False\n",
    "        label_map = {'metastases': 1, 'normal': 2} if camelyon17_type_mask else {\n",
    "            '_0': 1, '_1': 1, '_2': 0}\n",
    "        conversion_order = ['metastases', 'normal'] if camelyon17_type_mask else [\n",
    "            '_0', '_1', '_2']\n",
    "        print(\"process #\"+slide_basename)\n",
    "        annotation_mask.convert(annotation_list, output_path, mr_image.getDimensions(\n",
    "        ), mr_image.getSpacing(), label_map, conversion_order)\n",
    "    return slide_basename\n",
    "\n",
    "Parallel(n_jobs=60)(delayed(process_mask)(slide_basename) for slide_basename in tumor_slide_basenames)"
   ]
  }
 ],
 "metadata": {
  "kernelspec": {
   "display_name": "Python 3",
   "language": "python",
   "name": "python3"
  },
  "language_info": {
   "codemirror_mode": {
    "name": "ipython",
    "version": 3
   },
   "file_extension": ".py",
   "mimetype": "text/x-python",
   "name": "python",
   "nbconvert_exporter": "python",
   "pygments_lexer": "ipython3",
   "version": "3.6.7"
  }
 },
 "nbformat": 4,
 "nbformat_minor": 2
}
